{
  "cells": [
    {
      "cell_type": "markdown",
      "metadata": {
        "id": "view-in-github",
        "colab_type": "text"
      },
      "source": [
        "<a href=\"https://colab.research.google.com/github/abrham17/langchain_repo/blob/main/Copy_of_scratchpad.ipynb\" target=\"_parent\"><img src=\"https://colab.research.google.com/assets/colab-badge.svg\" alt=\"Open In Colab\"/></a>"
      ]
    },
    {
      "cell_type": "code",
      "execution_count": null,
      "metadata": {
        "id": "lIYdn1woOS1n"
      },
      "outputs": [],
      "source": [
        "!pip install datasets  langchain jsonline"
      ]
    },
    {
      "cell_type": "code",
      "source": [
        "from datasets import load_dataset\n",
        "import itertools\n",
        "ds = load_dataset(\"tatsu-lab/alpaca\", split='train', streaming=True)\n",
        "for example in itertools.islice(ds, 5):\n",
        "    print(example)"
      ],
      "metadata": {
        "id": "B6OiZAyZ_t_G"
      },
      "execution_count": null,
      "outputs": []
    },
    {
      "cell_type": "code",
      "source": [
        "from langchain.prompts import PromptTemplate\n",
        "template = \"\"\"\n",
        "Instruction: {instruction}\n",
        "\n",
        "Output: {output}\n",
        "\"\"\"\n",
        "template_with_input = \"\"\"\n",
        "Instruction: {instruction}\n",
        "\n",
        "Input: {input}\n",
        "\n",
        "Output: {output}\n",
        "\"\"\"\n",
        "prompt = PromptTemplate(\n",
        "    input_variables=[\"instruction\", \"output\"],\n",
        "    template=template,\n",
        ")\n",
        "\n",
        "prompt_with_input = PromptTemplate(\n",
        "    input_variables=[\"instruction\", \"input\", \"output\"],\n",
        "    template=template_with_input,\n",
        ")\n",
        "formatted_prompt=[]\n",
        "for example in ds:\n",
        "    if example['input']:\n",
        "      formated_input = prompt_with_input.format(**example)\n",
        "    else:\n",
        "      formated_input = prompt.format(**example)\n",
        "    formated_input = formated_input.replace(\"\\n\", \" \")\n",
        "    formatted_prompt.append(formated_input)\n",
        "print(formatted_prompt)"
      ],
      "metadata": {
        "id": "xz5AHAg1_vwB"
      },
      "execution_count": null,
      "outputs": []
    },
    {
      "cell_type": "code",
      "source": [
        "with open('json_data.json', 'w') as f:\n",
        "    for item in formatted_prompt:\n",
        "        f.write(item + '\\n')\n",
        "\n",
        "with open('json_data.json', 'r') as f:\n",
        "    for line in f:\n",
        "        print(line)\n",
        "\n"
      ],
      "metadata": {
        "id": "7lnioMb_DZt9"
      },
      "execution_count": null,
      "outputs": []
    }
  ],
  "metadata": {
    "colab": {
      "provenance": [],
      "include_colab_link": true
    },
    "kernelspec": {
      "display_name": "Python 3",
      "name": "python3"
    }
  },
  "nbformat": 4,
  "nbformat_minor": 0
}